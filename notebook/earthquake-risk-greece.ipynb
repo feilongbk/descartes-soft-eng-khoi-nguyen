{
 "cells": [
  {
   "cell_type": "markdown",
   "metadata": {},
   "source": [
    "# Earthquake risk in Greece\n",
    "\n",
    "This project is quite different from a software development task.\n",
    "\n",
    "Don't hesitate to contact us, if you have any doubts on what is asked or if you encounter error will using the notebook."
   ]
  },
  {
   "cell_type": "code",
   "execution_count": 1,
   "metadata": {},
   "outputs": [],
   "source": [
    "%reload_ext autoreload\n",
    "%autoreload 2"
   ]
  },
  {
   "cell_type": "markdown",
   "metadata": {},
   "source": [
    "## Constraints\n",
    "\n",
    "+ 🚨 Only cells with the comment `# NOTE: Fill me!` should be filled\n",
    "+ 🚨 Notebook should be saved and commited **with** outputs for the submission\n",
    "\n",
    "\n",
    "+ ⚠️ The solution only requires packages listed in the `requirements/requirements.txt`\n",
    "+ ⚠️ Unit tests should be favored when asked to write tests \n",
    "+ ⚠️ Tests must automatically be detected running `pytest`\n",
    "+ ⚠️ Requested method signature should be inferred from this notebook\n",
    "\n",
    "\n",
    "## Note\n",
    "\n",
    "+ The `assert` statements in the notebook are here to guide the project.\n",
    "However, successful `assert` statements does not guaranty that your code is correct.\n",
    "\n",
    "## Setup\n",
    "\n",
    "In a Python >= 3.8 virtual env, run:"
   ]
  },
  {
   "cell_type": "code",
   "execution_count": 2,
   "metadata": {},
   "outputs": [
    {
     "name": "stdout",
     "output_type": "stream",
     "text": [
      "Requirement already satisfied: pandas in c:\\users\\feilo\\anaconda3\\envs\\descartes_underwriting_technical_test\\lib\\site-packages (from -r ../requirements/requirements.txt (line 1)) (1.4.1)\n",
      "Requirement already satisfied: numpy in c:\\users\\feilo\\anaconda3\\envs\\descartes_underwriting_technical_test\\lib\\site-packages (from -r ../requirements/requirements.txt (line 2)) (1.22.3)\n",
      "Requirement already satisfied: ipykernel in c:\\users\\feilo\\anaconda3\\envs\\descartes_underwriting_technical_test\\lib\\site-packages (from -r ../requirements/requirements.txt (line 3)) (6.9.2)\n",
      "Requirement already satisfied: pytest in c:\\users\\feilo\\anaconda3\\envs\\descartes_underwriting_technical_test\\lib\\site-packages (from -r ../requirements/requirements.txt (line 4)) (7.1.0)\n",
      "Requirement already satisfied: matplotlib in c:\\users\\feilo\\anaconda3\\envs\\descartes_underwriting_technical_test\\lib\\site-packages (from -r ../requirements/requirements.txt (line 5)) (3.5.1)\n",
      "Requirement already satisfied: asyncio in c:\\users\\feilo\\anaconda3\\envs\\descartes_underwriting_technical_test\\lib\\site-packages (from -r ../requirements/requirements.txt (line 6)) (3.4.3)\n",
      "Requirement already satisfied: aiohttp in c:\\users\\feilo\\anaconda3\\envs\\descartes_underwriting_technical_test\\lib\\site-packages (from -r ../requirements/requirements.txt (line 7)) (3.8.1)\n",
      "Requirement already satisfied: pytz>=2020.1 in c:\\users\\feilo\\anaconda3\\envs\\descartes_underwriting_technical_test\\lib\\site-packages (from pandas->-r ../requirements/requirements.txt (line 1)) (2021.3)\n",
      "Requirement already satisfied: python-dateutil>=2.8.1 in c:\\users\\feilo\\anaconda3\\envs\\descartes_underwriting_technical_test\\lib\\site-packages (from pandas->-r ../requirements/requirements.txt (line 1)) (2.8.2)\n",
      "Requirement already satisfied: tornado<7.0,>=4.2 in c:\\users\\feilo\\anaconda3\\envs\\descartes_underwriting_technical_test\\lib\\site-packages (from ipykernel->-r ../requirements/requirements.txt (line 3)) (6.1)\n",
      "Requirement already satisfied: psutil in c:\\users\\feilo\\anaconda3\\envs\\descartes_underwriting_technical_test\\lib\\site-packages (from ipykernel->-r ../requirements/requirements.txt (line 3)) (5.9.0)\n",
      "Requirement already satisfied: jupyter-client<8.0 in c:\\users\\feilo\\anaconda3\\envs\\descartes_underwriting_technical_test\\lib\\site-packages (from ipykernel->-r ../requirements/requirements.txt (line 3)) (7.1.2)\n",
      "Requirement already satisfied: traitlets<6.0,>=5.1.0 in c:\\users\\feilo\\anaconda3\\envs\\descartes_underwriting_technical_test\\lib\\site-packages (from ipykernel->-r ../requirements/requirements.txt (line 3)) (5.1.1)\n",
      "Requirement already satisfied: debugpy<2.0,>=1.0.0 in c:\\users\\feilo\\anaconda3\\envs\\descartes_underwriting_technical_test\\lib\\site-packages (from ipykernel->-r ../requirements/requirements.txt (line 3)) (1.5.1)\n",
      "Requirement already satisfied: ipython>=7.23.1 in c:\\users\\feilo\\anaconda3\\envs\\descartes_underwriting_technical_test\\lib\\site-packages (from ipykernel->-r ../requirements/requirements.txt (line 3)) (8.1.1)\n",
      "Requirement already satisfied: matplotlib-inline<0.2.0,>=0.1.0 in c:\\users\\feilo\\anaconda3\\envs\\descartes_underwriting_technical_test\\lib\\site-packages (from ipykernel->-r ../requirements/requirements.txt (line 3)) (0.1.3)\n",
      "Requirement already satisfied: nest-asyncio in c:\\users\\feilo\\anaconda3\\envs\\descartes_underwriting_technical_test\\lib\\site-packages (from ipykernel->-r ../requirements/requirements.txt (line 3)) (1.5.4)\n",
      "Requirement already satisfied: pluggy<2.0,>=0.12 in c:\\users\\feilo\\anaconda3\\envs\\descartes_underwriting_technical_test\\lib\\site-packages (from pytest->-r ../requirements/requirements.txt (line 4)) (1.0.0)\n",
      "Requirement already satisfied: packaging in c:\\users\\feilo\\anaconda3\\envs\\descartes_underwriting_technical_test\\lib\\site-packages (from pytest->-r ../requirements/requirements.txt (line 4)) (21.3)\n",
      "Requirement already satisfied: tomli>=1.0.0 in c:\\users\\feilo\\anaconda3\\envs\\descartes_underwriting_technical_test\\lib\\site-packages (from pytest->-r ../requirements/requirements.txt (line 4)) (2.0.1)\n",
      "Requirement already satisfied: colorama in c:\\users\\feilo\\anaconda3\\envs\\descartes_underwriting_technical_test\\lib\\site-packages (from pytest->-r ../requirements/requirements.txt (line 4)) (0.4.4)\n",
      "Requirement already satisfied: atomicwrites>=1.0 in c:\\users\\feilo\\anaconda3\\envs\\descartes_underwriting_technical_test\\lib\\site-packages (from pytest->-r ../requirements/requirements.txt (line 4)) (1.4.0)\n",
      "Requirement already satisfied: iniconfig in c:\\users\\feilo\\anaconda3\\envs\\descartes_underwriting_technical_test\\lib\\site-packages (from pytest->-r ../requirements/requirements.txt (line 4)) (1.1.1)\n",
      "Requirement already satisfied: attrs>=19.2.0 in c:\\users\\feilo\\anaconda3\\envs\\descartes_underwriting_technical_test\\lib\\site-packages (from pytest->-r ../requirements/requirements.txt (line 4)) (21.4.0)\n",
      "Requirement already satisfied: py>=1.8.2 in c:\\users\\feilo\\anaconda3\\envs\\descartes_underwriting_technical_test\\lib\\site-packages (from pytest->-r ../requirements/requirements.txt (line 4)) (1.11.0)\n",
      "Requirement already satisfied: kiwisolver>=1.0.1 in c:\\users\\feilo\\anaconda3\\envs\\descartes_underwriting_technical_test\\lib\\site-packages (from matplotlib->-r ../requirements/requirements.txt (line 5)) (1.4.0)\n",
      "Requirement already satisfied: fonttools>=4.22.0 in c:\\users\\feilo\\anaconda3\\envs\\descartes_underwriting_technical_test\\lib\\site-packages (from matplotlib->-r ../requirements/requirements.txt (line 5)) (4.30.0)\n",
      "Requirement already satisfied: pillow>=6.2.0 in c:\\users\\feilo\\anaconda3\\envs\\descartes_underwriting_technical_test\\lib\\site-packages (from matplotlib->-r ../requirements/requirements.txt (line 5)) (9.0.1)\n",
      "Requirement already satisfied: cycler>=0.10 in c:\\users\\feilo\\anaconda3\\envs\\descartes_underwriting_technical_test\\lib\\site-packages (from matplotlib->-r ../requirements/requirements.txt (line 5)) (0.11.0)\n",
      "Requirement already satisfied: pyparsing>=2.2.1 in c:\\users\\feilo\\anaconda3\\envs\\descartes_underwriting_technical_test\\lib\\site-packages (from matplotlib->-r ../requirements/requirements.txt (line 5)) (3.0.7)\n",
      "Requirement already satisfied: async-timeout<5.0,>=4.0.0a3 in c:\\users\\feilo\\anaconda3\\envs\\descartes_underwriting_technical_test\\lib\\site-packages (from aiohttp->-r ../requirements/requirements.txt (line 7)) (4.0.2)\n",
      "Requirement already satisfied: charset-normalizer<3.0,>=2.0 in c:\\users\\feilo\\anaconda3\\envs\\descartes_underwriting_technical_test\\lib\\site-packages (from aiohttp->-r ../requirements/requirements.txt (line 7)) (2.0.12)\n",
      "Requirement already satisfied: aiosignal>=1.1.2 in c:\\users\\feilo\\anaconda3\\envs\\descartes_underwriting_technical_test\\lib\\site-packages (from aiohttp->-r ../requirements/requirements.txt (line 7)) (1.2.0)\n",
      "Requirement already satisfied: frozenlist>=1.1.1 in c:\\users\\feilo\\anaconda3\\envs\\descartes_underwriting_technical_test\\lib\\site-packages (from aiohttp->-r ../requirements/requirements.txt (line 7)) (1.3.0)\n",
      "Requirement already satisfied: yarl<2.0,>=1.0 in c:\\users\\feilo\\anaconda3\\envs\\descartes_underwriting_technical_test\\lib\\site-packages (from aiohttp->-r ../requirements/requirements.txt (line 7)) (1.7.2)\n",
      "Requirement already satisfied: multidict<7.0,>=4.5 in c:\\users\\feilo\\anaconda3\\envs\\descartes_underwriting_technical_test\\lib\\site-packages (from aiohttp->-r ../requirements/requirements.txt (line 7)) (6.0.2)\n",
      "Requirement already satisfied: pickleshare in c:\\users\\feilo\\anaconda3\\envs\\descartes_underwriting_technical_test\\lib\\site-packages (from ipython>=7.23.1->ipykernel->-r ../requirements/requirements.txt (line 3)) (0.7.5)\n",
      "Requirement already satisfied: prompt-toolkit!=3.0.0,!=3.0.1,<3.1.0,>=2.0.0 in c:\\users\\feilo\\anaconda3\\envs\\descartes_underwriting_technical_test\\lib\\site-packages (from ipython>=7.23.1->ipykernel->-r ../requirements/requirements.txt (line 3)) (3.0.28)\n",
      "Requirement already satisfied: decorator in c:\\users\\feilo\\anaconda3\\envs\\descartes_underwriting_technical_test\\lib\\site-packages (from ipython>=7.23.1->ipykernel->-r ../requirements/requirements.txt (line 3)) (5.1.1)\n",
      "Requirement already satisfied: jedi>=0.16 in c:\\users\\feilo\\anaconda3\\envs\\descartes_underwriting_technical_test\\lib\\site-packages (from ipython>=7.23.1->ipykernel->-r ../requirements/requirements.txt (line 3)) (0.18.1)\n",
      "Requirement already satisfied: backcall in c:\\users\\feilo\\anaconda3\\envs\\descartes_underwriting_technical_test\\lib\\site-packages (from ipython>=7.23.1->ipykernel->-r ../requirements/requirements.txt (line 3)) (0.2.0)\n",
      "Requirement already satisfied: stack-data in c:\\users\\feilo\\anaconda3\\envs\\descartes_underwriting_technical_test\\lib\\site-packages (from ipython>=7.23.1->ipykernel->-r ../requirements/requirements.txt (line 3)) (0.2.0)\n",
      "Requirement already satisfied: pygments>=2.4.0 in c:\\users\\feilo\\anaconda3\\envs\\descartes_underwriting_technical_test\\lib\\site-packages (from ipython>=7.23.1->ipykernel->-r ../requirements/requirements.txt (line 3)) (2.11.2)\n",
      "Requirement already satisfied: setuptools>=18.5 in c:\\users\\feilo\\anaconda3\\envs\\descartes_underwriting_technical_test\\lib\\site-packages (from ipython>=7.23.1->ipykernel->-r ../requirements/requirements.txt (line 3)) (58.0.4)\n",
      "Requirement already satisfied: parso<0.9.0,>=0.8.0 in c:\\users\\feilo\\anaconda3\\envs\\descartes_underwriting_technical_test\\lib\\site-packages (from jedi>=0.16->ipython>=7.23.1->ipykernel->-r ../requirements/requirements.txt (line 3)) (0.8.3)\n",
      "Requirement already satisfied: entrypoints in c:\\users\\feilo\\anaconda3\\envs\\descartes_underwriting_technical_test\\lib\\site-packages (from jupyter-client<8.0->ipykernel->-r ../requirements/requirements.txt (line 3)) (0.4)\n",
      "Requirement already satisfied: pyzmq>=13 in c:\\users\\feilo\\anaconda3\\envs\\descartes_underwriting_technical_test\\lib\\site-packages (from jupyter-client<8.0->ipykernel->-r ../requirements/requirements.txt (line 3)) (22.3.0)\n",
      "Requirement already satisfied: jupyter-core>=4.6.0 in c:\\users\\feilo\\anaconda3\\envs\\descartes_underwriting_technical_test\\lib\\site-packages (from jupyter-client<8.0->ipykernel->-r ../requirements/requirements.txt (line 3)) (4.9.2)\n",
      "Requirement already satisfied: pywin32>=1.0 in c:\\users\\feilo\\anaconda3\\envs\\descartes_underwriting_technical_test\\lib\\site-packages (from jupyter-core>=4.6.0->jupyter-client<8.0->ipykernel->-r ../requirements/requirements.txt (line 3)) (303)\n",
      "Requirement already satisfied: wcwidth in c:\\users\\feilo\\anaconda3\\envs\\descartes_underwriting_technical_test\\lib\\site-packages (from prompt-toolkit!=3.0.0,!=3.0.1,<3.1.0,>=2.0.0->ipython>=7.23.1->ipykernel->-r ../requirements/requirements.txt (line 3)) (0.2.5)\n",
      "Requirement already satisfied: six>=1.5 in c:\\users\\feilo\\anaconda3\\envs\\descartes_underwriting_technical_test\\lib\\site-packages (from python-dateutil>=2.8.1->pandas->-r ../requirements/requirements.txt (line 1)) (1.16.0)\n",
      "Requirement already satisfied: idna>=2.0 in c:\\users\\feilo\\anaconda3\\envs\\descartes_underwriting_technical_test\\lib\\site-packages (from yarl<2.0,>=1.0->aiohttp->-r ../requirements/requirements.txt (line 7)) (3.3)\n",
      "Requirement already satisfied: executing in c:\\users\\feilo\\anaconda3\\envs\\descartes_underwriting_technical_test\\lib\\site-packages (from stack-data->ipython>=7.23.1->ipykernel->-r ../requirements/requirements.txt (line 3)) (0.8.3)\n",
      "Requirement already satisfied: pure-eval in c:\\users\\feilo\\anaconda3\\envs\\descartes_underwriting_technical_test\\lib\\site-packages (from stack-data->ipython>=7.23.1->ipykernel->-r ../requirements/requirements.txt (line 3)) (0.2.2)\n",
      "Requirement already satisfied: asttokens in c:\\users\\feilo\\anaconda3\\envs\\descartes_underwriting_technical_test\\lib\\site-packages (from stack-data->ipython>=7.23.1->ipykernel->-r ../requirements/requirements.txt (line 3)) (2.0.5)\n",
      "Obtaining file:///C:/Users/feilo/PycharmProjects/descartes_underwriting_technical_test\n",
      "Installing collected packages: earthquakes\n",
      "  Attempting uninstall: earthquakes\n",
      "    Found existing installation: earthquakes dev\n",
      "    Uninstalling earthquakes-dev:\n",
      "      Successfully uninstalled earthquakes-dev\n",
      "  Running setup.py develop for earthquakes\n",
      "Successfully installed earthquakes-dev\n"
     ]
    }
   ],
   "source": [
    "! pip install -r ../requirements/requirements.txt\n",
    "! pip install --no-deps -e .."
   ]
  },
  {
   "cell_type": "code",
   "execution_count": 3,
   "metadata": {},
   "outputs": [],
   "source": [
    "## A DIRTY PRACTICE TO EASLILY IMPORT ALL PYTHON MODULES\n",
    "import add_to_path"
   ]
  },
  {
   "cell_type": "code",
   "execution_count": 4,
   "metadata": {},
   "outputs": [],
   "source": [
    "#! pip install -r ../requirements.txt\n"
   ]
  },
  {
   "cell_type": "markdown",
   "metadata": {},
   "source": [
    "## Tests"
   ]
  },
  {
   "cell_type": "code",
   "execution_count": 5,
   "metadata": {},
   "outputs": [
    {
     "name": "stdout",
     "output_type": "stream",
     "text": [
      "============================= test session starts =============================\n",
      "platform win32 -- Python 3.8.12, pytest-7.1.0, pluggy-1.0.0\n",
      "rootdir: C:\\Users\\feilo\\PycharmProjects\\descartes_underwriting_technical_test\n",
      "plugins: anyio-3.5.0, dash-2.3.0\n",
      "collected 5 items\n",
      "\n",
      "tests\\src\\earthquakes\\test_tools.py ..                                   [ 40%]\n",
      "tests\\src\\earthquakes\\test_usgs_api.py ...                               [100%]\n",
      "\n",
      "============================== 5 passed in 9.92s ==============================\n"
     ]
    }
   ],
   "source": [
    "! cd .. && pytest"
   ]
  },
  {
   "cell_type": "markdown",
   "metadata": {},
   "source": [
    "---"
   ]
  },
  {
   "cell_type": "markdown",
   "metadata": {},
   "source": [
    "# Context\n",
    "\n",
    "A client asks for an insurance of their asset, located at `(35.025, 25.763)` in Greece.\n",
    "\n",
    "The client wishes to receive a payout under the following conditions:\n",
    "\n",
    "+ earthquake of magnitude `4.5` or higher within `10km`: full payout\n",
    "+ earthquake of magnitude `5.5` or higher within `50km`: `75%` payout\n",
    "+ earthquake of magnitude `6.5` or higher within `200km`: `50%` payout\n",
    "\n",
    "In the event of aftershocks, a payout can only occur once a year using the maximal value.\n",
    "\n",
    "## Example\n",
    "\n",
    "If in the same year:\n",
    "\n",
    "* an earthquake of magnitude `6.8` occurs within `200km`\n",
    "* **and** an aftershock of magnitude `5.8` occurs within `50km`\n",
    "\n",
    "the client receives a `75%` payout, and not a `125%` payout."
   ]
  },
  {
   "cell_type": "code",
   "execution_count": 6,
   "metadata": {},
   "outputs": [],
   "source": [
    "import numpy as np\n",
    "import pandas as pd\n",
    "from datetime import datetime\n",
    "\n",
    "from earthquakes.tools import (\n",
    "    DISTANCE_COLUMN,\n",
    "    LATITUDE_COLUMN,\n",
    "    LONGITUDE_COLUMN,\n",
    ") "
   ]
  },
  {
   "cell_type": "markdown",
   "metadata": {},
   "source": [
    "# Earthquake data\n",
    "\n",
    "The US Geological Service (USGS) provides CSV data through their [API](https://earthquake.usgs.gov/fdsnws/event/1/).\n",
    "\n",
    "Use it to retrieve earthquake information.\n",
    "\n",
    "In the module `earthquakes.usgs_api`:\n",
    "+ Implement the function `get_earthquake_data`,\n",
    "+ The function will retrieve the earthquake data of the area of interest for the past 200 years,\n",
    "+ The implementation must use the `urllib` python package,\n",
    "+ The API request url must be build in a dedicated function `build_api_url`,\n",
    "+ Tests should be provided for `build_api_url`.\n",
    "\n",
    "Note: Earthquakes after the 21-10-2021 should not be considered."
   ]
  },
  {
   "cell_type": "code",
   "execution_count": 7,
   "metadata": {},
   "outputs": [],
   "source": [
    "from earthquakes.usgs_api import get_earthquake_data"
   ]
  },
  {
   "cell_type": "code",
   "execution_count": 8,
   "metadata": {},
   "outputs": [
    {
     "data": {
      "text/plain": [
       "(35.025, 25.763, 200, 4.5)"
      ]
     },
     "execution_count": 8,
     "metadata": {},
     "output_type": "execute_result"
    }
   ],
   "source": [
    "# NOTE: Fill me!\n",
    "\n",
    "\n",
    "\n",
    "PROTECTION_LAYER_PARAMETERS = list()\n",
    "PROTECTION_LAYER_PARAMETERS.append({\"max_radius\":10,\"min_magnitude\":4.5,\"payout_ratio\":1.0})\n",
    "PROTECTION_LAYER_PARAMETERS.append({\"max_radius\":50,\"min_magnitude\":5.5,\"payout_ratio\":0.75})\n",
    "PROTECTION_LAYER_PARAMETERS.append({\"max_radius\":200,\"min_magnitude\":6.5,\"payout_ratio\":0.5})\n",
    "\n",
    "\n",
    "\n",
    "POLICY_LIMIT = 100.0 ##\n",
    "\n",
    "\n",
    "latitude = 35.025\n",
    "longitude = 25.763\n",
    "radius = max([x[\"max_radius\"] for x in PROTECTION_LAYER_PARAMETERS])\n",
    "minimum_magnitude =  min([x[\"min_magnitude\"] for x in PROTECTION_LAYER_PARAMETERS])\n",
    "\n",
    "ASSET_LOCATION_PARAMETERS  = list()\n",
    "ASSET_LOCATION_PARAMETERS.append({\"latitude\":latitude,\"longitude\":longitude})\n",
    "\n",
    "latitude,longitude,radius,minimum_magnitude"
   ]
  },
  {
   "cell_type": "code",
   "execution_count": 9,
   "metadata": {},
   "outputs": [],
   "source": [
    "# NOTE: This request may take significant time (>10s)\n",
    "earthquake_data = get_earthquake_data(\n",
    "    latitude=latitude,\n",
    "    longitude=longitude,\n",
    "    radius=radius,\n",
    "    minimum_magnitude=minimum_magnitude,\n",
    "    end_date=datetime(year=2021, month=10, day=21)\n",
    ")"
   ]
  },
  {
   "cell_type": "code",
   "execution_count": 10,
   "metadata": {},
   "outputs": [],
   "source": [
    "assert isinstance(earthquake_data, pd.DataFrame)\n",
    "assert len(earthquake_data) == 656"
   ]
  },
  {
   "cell_type": "markdown",
   "metadata": {},
   "source": [
    "## Warning\n",
    "\n",
    "The next test may fail because USGS regularly updates their earthquake database.\n",
    "\n",
    "The dataframe obtained should over be similar to that presented bellow.\n",
    "\n",
    "Please contact us if there is an error."
   ]
  },
  {
   "cell_type": "code",
   "execution_count": 11,
   "metadata": {},
   "outputs": [],
   "source": [
    "expected_earthquake_data = pd.DataFrame([\n",
    "        [\"2021-10-12T09:24:05.099Z\", 35.1691, 26.2152, 20.0, 6.4, \"mww\", np.nan, 19.0, 0.860, 0.46,\"us\", \"us6000ftxu\", \"2021-12-18T19:58:57.040Z\", \"4 km SW of Palekastro, Greece\", \"earthquake\", 6.1, 1.8, 0.048, 42.0, \"reviewed\", \"us\", \"us\"],\n",
    "        [\"2021-10-03T14:31:27.622Z\", 35.1442, 25.2375, 10.0, 4.6, \"mb\", np.nan, 119.0, 0.318, 0.64, \"us\", \"us6000fsp1\", \"2021-12-10T21:14:19.040Z\", \"2 km W of Arkalochóri, Greece\", \"earthquake\", 5.0, 1.9, 0.165, 13.0, \"reviewed\", \"us\", \"us\"],\n",
    "        [\"2021-09-29T11:54:48.885Z\", 35.0268, 25.1561, 10.0, 4.6, \"mb\", np.nan, 69.0, 0.339, 0.83, \"us\", \"us6000fq3y\", \"2021-12-04T14:27:58.040Z\", \"2 km N of Pýrgos, Greece\", \"earthquake\", 5.1, 1.3, 0.068, 64.0, \"reviewed\", \"us\", \"us\"],\n",
    "        [\"2021-09-28T15:13:16.867Z\", 35.2054, 25.2791, 10.0, 4.7, \"mb\", np.nan, 58.0, 0.329, 0.70, \"us\", \"us7000ff84\", \"2021-12-04T14:30:09.040Z\", \"1 km N of Thrapsanón, Greece\", \"earthquake\", 6.9, 1.8, 0.067, 73.0, \"reviewed\", \"us\", \"us\"],\n",
    "        [\"2021-09-28T04:48:08.650Z\", 35.0817, 25.2018, 10.0, 5.3, \"mww\", np.nan, 43.0, 0.328, 0.94, \"us\", \"us7000ff36\", \"2021-12-04T14:30:04.040Z\", \"9 km SW of Arkalochóri, Greece\", \"earthquake\", 4.5, 1.7, 0.046, 45.0, \"reviewed\", \"us\", \"us\"],\n",
    "    ],\n",
    "    columns=['time', 'latitude', 'longitude', 'depth', 'mag', 'magType', 'nst', 'gap', 'dmin', 'rms', 'net', 'id', 'updated', 'place', 'type', 'horizontalError', 'depthError', 'magError', 'magNst', 'status', 'locationSource', 'magSource']\n",
    ")"
   ]
  },
  {
   "cell_type": "code",
   "execution_count": 12,
   "metadata": {},
   "outputs": [],
   "source": [
    "earthquake_data_sample = earthquake_data[\n",
    "    earthquake_data[\"time\"].isin(expected_earthquake_data[\"time\"])\n",
    "]\n",
    "### THIS COMPARISON IS SENSENBLE BY INDEX ORDERS, STANDARDIZATION IS NEEDED IN MY CASE\n",
    "pd.testing.assert_frame_equal(earthquake_data_sample.sort_values(by =\"time\").reset_index().drop(\"index\",axis = 1), expected_earthquake_data.sort_values(by =\"time\").reset_index().drop(\"index\",axis = 1))"
   ]
  },
  {
   "cell_type": "markdown",
   "metadata": {},
   "source": [
    "# Distance\n",
    "\n",
    "We wish to compute the the historical payouts (i.e. the payouts that would have occurred for the past 200 years).\n",
    "\n",
    "To compute the historical payouts, we need to know the distance between each earthquake and our client's asset.\n",
    "\n",
    "The distance between two points on a sphere is the [Haversine distance](https://en.wikipedia.org/wiki/Haversine_formula). In the module `eathquakes.tools`:\n",
    "- Implement and test the function `get_haversine_distance`,\n",
    "- Use `earthquakes.tools.EARTH_RADIUS` (6378km) as an approximation of the radius of Earth."
   ]
  },
  {
   "cell_type": "code",
   "execution_count": 13,
   "metadata": {},
   "outputs": [],
   "source": [
    "from earthquakes.tools import get_haversine_distance\n",
    "\n",
    "distances = get_haversine_distance(earthquake_data[LATITUDE_COLUMN], earthquake_data[LONGITUDE_COLUMN], latitude, longitude)\n",
    "\n",
    "earthquake_data[DISTANCE_COLUMN] = distances"
   ]
  },
  {
   "cell_type": "markdown",
   "metadata": {},
   "source": [
    "## Historical payouts and burning costs\n",
    "\n",
    "### Payout\n",
    "\n",
    "The historical payouts are a map `year -> payout in %`.\n",
    "\n",
    "eg: `1950: 50` for a payout of `50%` in 1950.\n",
    "\n",
    "Payouts are NOT given per event, but per year.\n",
    "\n",
    "This map can take the form of a python `dict` or of a pandas `Series`. \n",
    "\n",
    "### Burning cost\n",
    "\n",
    "The `burning cost` is the average of payouts over a time range.\n",
    "\n",
    "In this project, the burning cost should be expressed in `%`. \n",
    "\n",
    "### Payout structure\n",
    "\n",
    "The payout structure is:\n",
    "\n",
    "| Radius | Magnitude | Payout |\n",
    "|--------|-----------|--------|\n",
    "| 10km   | 4.5       | 100 %  |\n",
    "| 50km   | 5.5       |  75 %  |\n",
    "| 200km  | 6.5       |  50 %  |\n",
    "\n",
    "Payouts can occur only once in a given year.\n",
    "\n",
    "In the module `earthquakes.tools`:\n",
    "+ Implement the functions `compute_payouts` and `compute_burning_cost`,\n",
    "+ Tests for these functions are not required.\n",
    "\n",
    "### Example\n",
    "\n",
    "A payout `{1950: 50, 1992: 75}` means that we would have paid our client\n",
    "+ in 1950, for `50%` of the insured amount (called 'limit')\n",
    "+ in 1992, for `75%` of the limit\n",
    "\n",
    "The burning cost over the `1922-2021` period would be `1.25%`.\n",
    "\n",
    "The burning cost over the `1972-2021` period would be `1.5%`."
   ]
  },
  {
   "cell_type": "code",
   "execution_count": 14,
   "metadata": {},
   "outputs": [],
   "source": [
    "from earthquakes.tools import compute_payouts, compute_burning_cost"
   ]
  },
  {
   "cell_type": "code",
   "execution_count": 15,
   "metadata": {},
   "outputs": [],
   "source": [
    "# NOTE: Fill me!\n",
    "import importlib\n",
    "from src.earthquakes.tools import earthquake_policy_module\n",
    "importlib.reload(earthquake_policy_module)\n",
    "\n",
    "### PROTECTION LAYER CREATION\n",
    "\n",
    "### ASSET LOCATION \n",
    "protection_layers = []\n",
    "for index_, layer in enumerate(PROTECTION_LAYER_PARAMETERS):\n",
    "    protection_layers.append(\n",
    "            earthquake_policy_module.EarthquakeProtectionLayer(layer_id=index_, max_radius=layer[\"max_radius\"],\n",
    "                                                                     min_magnitude=layer[\"min_magnitude\"],\n",
    "                                                                     payout_ratio=layer[\"payout_ratio\"]))\n",
    "asset_locations = list()\n",
    "for index_, location in enumerate(ASSET_LOCATION_PARAMETERS):\n",
    "    asset_locations.append({\"latitude\": location[\"latitude\"],\n",
    "            \"longitude\": location[\"longitude\"]\n",
    "        })\n",
    "reporting_levels = [earthquake_policy_module.ReportingLevel.EVENT,\n",
    "                        earthquake_policy_module.ReportingLevel.EVENT_LAYER]\n",
    "\n",
    "policy = earthquake_policy_module.MultiAssetEarthquakePolicy(policy_id=1,\n",
    "                                                                       policy_name=\"GREECE EARTHQUAKE TEST\",\n",
    "                                                                       asset_locations=asset_locations,\n",
    "                                                                       protection_layers=protection_layers,\n",
    "                                                                       limit=POLICY_LIMIT,\n",
    "                                                                       reporting_levels=reporting_levels)\n",
    "\n",
    "### GENERATE POLICY OBJECT\n",
    "\n",
    "\n",
    "payout_structure = policy"
   ]
  },
  {
   "cell_type": "code",
   "execution_count": 16,
   "metadata": {},
   "outputs": [
    {
     "name": "stdout",
     "output_type": "stream",
     "text": [
      "                         time  latitude  longitude  depth  mag magType  nst  \\\n",
      "0    1911-04-04T15:43:47.000Z   36.4060    25.8840   15.0  6.0      mw  NaN   \n",
      "1    1922-08-11T08:19:41.000Z   34.9890    27.1760   20.0  6.3      mw  NaN   \n",
      "2    1922-08-13T00:09:55.000Z   35.3240    27.5470   15.0  6.7      mw  NaN   \n",
      "3    1923-08-01T08:16:27.000Z   34.7860    25.1600   15.0  5.6      mw  NaN   \n",
      "4    1948-02-09T12:58:18.000Z   35.6310    27.1530   15.0  7.3      mw  NaN   \n",
      "..                        ...       ...        ...    ...  ...     ...  ...   \n",
      "651  2021-09-28T04:48:08.650Z   35.0817    25.2018   10.0  5.3     mww  NaN   \n",
      "652  2021-09-28T15:13:16.867Z   35.2054    25.2791   10.0  4.7      mb  NaN   \n",
      "653  2021-09-29T11:54:48.885Z   35.0268    25.1561   10.0  4.6      mb  NaN   \n",
      "654  2021-10-03T14:31:27.622Z   35.1442    25.2375   10.0  4.6      mb  NaN   \n",
      "655  2021-10-12T09:24:05.099Z   35.1691    26.2152   20.0  6.4     mww  NaN   \n",
      "\n",
      "       gap   dmin   rms  ...                           place        type  \\\n",
      "0      NaN    NaN   NaN  ...      39 km E of Mesariá, Greece  earthquake   \n",
      "1      NaN    NaN   NaN  ...        52 km SSE of Fry, Greece  earthquake   \n",
      "2      NaN    NaN   NaN  ...   36 km SE of Karpathos, Greece  earthquake   \n",
      "3      NaN    NaN   NaN  ...       24 km S of Pýrgos, Greece  earthquake   \n",
      "4      NaN    NaN   NaN  ...  14 km NNW of Karpathos, Greece  earthquake   \n",
      "..     ...    ...   ...  ...                             ...         ...   \n",
      "651   43.0  0.328  0.94  ...  9 km SW of Arkalochóri, Greece  earthquake   \n",
      "652   58.0  0.329  0.70  ...    1 km N of Thrapsanón, Greece  earthquake   \n",
      "653   69.0  0.339  0.83  ...        2 km N of Pýrgos, Greece  earthquake   \n",
      "654  119.0  0.318  0.64  ...   2 km W of Arkalochóri, Greece  earthquake   \n",
      "655   19.0  0.860  0.46  ...   4 km SW of Palekastro, Greece  earthquake   \n",
      "\n",
      "    horizontalError depthError magError  magNst     status  locationSource  \\\n",
      "0               NaN        NaN      NaN     NaN  automatic          iscgem   \n",
      "1               NaN        NaN      NaN     NaN  automatic          iscgem   \n",
      "2               NaN        NaN      NaN     NaN  automatic          iscgem   \n",
      "3               NaN        NaN      NaN     NaN  automatic          iscgem   \n",
      "4               NaN        NaN      NaN     NaN  automatic          iscgem   \n",
      "..              ...        ...      ...     ...        ...             ...   \n",
      "651             4.5        1.7    0.046    45.0   reviewed              us   \n",
      "652             6.9        1.8    0.067    73.0   reviewed              us   \n",
      "653             5.1        1.3    0.068    64.0   reviewed              us   \n",
      "654             5.0        1.9    0.165    13.0   reviewed              us   \n",
      "655             6.1        1.8    0.048    42.0   reviewed              us   \n",
      "\n",
      "     magSource    distance  \n",
      "0       iscgem  154.117369  \n",
      "1       iscgem  128.895503  \n",
      "2       iscgem  165.702061  \n",
      "3       iscgem   61.140140  \n",
      "4       iscgem  143.129221  \n",
      "..         ...         ...  \n",
      "651         us   51.527937  \n",
      "652         us   48.422808  \n",
      "653         us   55.323314  \n",
      "654         us   49.673412  \n",
      "655         us   44.198651  \n",
      "\n",
      "[656 rows x 23 columns]\n",
      "1911    <core.financial_modelling.scenario_payout.base...\n",
      "1922    <core.financial_modelling.scenario_payout.base...\n",
      "1923    <core.financial_modelling.scenario_payout.base...\n",
      "1948    <core.financial_modelling.scenario_payout.base...\n",
      "1950    <core.financial_modelling.scenario_payout.base...\n",
      "                              ...                        \n",
      "2017    <core.financial_modelling.scenario_payout.base...\n",
      "2018    <core.financial_modelling.scenario_payout.base...\n",
      "2019    <core.financial_modelling.scenario_payout.base...\n",
      "2020    <core.financial_modelling.scenario_payout.base...\n",
      "2021    <core.financial_modelling.scenario_payout.base...\n",
      "Length: 68, dtype: object\n"
     ]
    }
   ],
   "source": [
    "### THE RESULT IS AN EXTENSION OF A pandas.Series with detailed_analysis and event_data as additional field\n",
    "### This will not affect the common behavior of a pandas.Series object\n",
    "payouts = compute_payouts(earthquake_data, payout_structure)"
   ]
  },
  {
   "cell_type": "code",
   "execution_count": null,
   "metadata": {},
   "outputs": [],
   "source": []
  },
  {
   "cell_type": "code",
   "execution_count": 17,
   "metadata": {},
   "outputs": [
    {
     "data": {
      "text/plain": [
       "1911    <core.financial_modelling.scenario_payout.base...\n",
       "1922    <core.financial_modelling.scenario_payout.base...\n",
       "1923    <core.financial_modelling.scenario_payout.base...\n",
       "1948    <core.financial_modelling.scenario_payout.base...\n",
       "1950    <core.financial_modelling.scenario_payout.base...\n",
       "                              ...                        \n",
       "2017    <core.financial_modelling.scenario_payout.base...\n",
       "2018    <core.financial_modelling.scenario_payout.base...\n",
       "2019    <core.financial_modelling.scenario_payout.base...\n",
       "2020    <core.financial_modelling.scenario_payout.base...\n",
       "2021    <core.financial_modelling.scenario_payout.base...\n",
       "Length: 68, dtype: object"
      ]
     },
     "execution_count": 17,
     "metadata": {},
     "output_type": "execute_result"
    }
   ],
   "source": [
    "payouts.detailed_analysis"
   ]
  },
  {
   "cell_type": "code",
   "execution_count": 18,
   "metadata": {},
   "outputs": [],
   "source": [
    "# Depending on the return type of compute_payouts, the following line needs to be adjusted.\n",
    "# - pd.Series:\n",
    "payout_values = np.array(payouts.values)\n",
    "# - dict:\n",
    "# payout_values = np.array(list(payouts.values()))\n",
    "assert np.max(payout_values) > 1\n",
    "assert np.max(payout_values) <= 100"
   ]
  },
  {
   "cell_type": "code",
   "execution_count": 19,
   "metadata": {},
   "outputs": [],
   "source": [
    "burning_cost = compute_burning_cost(payouts, start_year=1952, end_year=2021)"
   ]
  },
  {
   "cell_type": "code",
   "execution_count": 20,
   "metadata": {},
   "outputs": [],
   "source": [
    "np.testing.assert_allclose(burning_cost, 10.71, atol=1e-2)"
   ]
  },
  {
   "cell_type": "code",
   "execution_count": 21,
   "metadata": {},
   "outputs": [],
   "source": [
    "import matplotlib.pyplot as plt"
   ]
  },
  {
   "cell_type": "code",
   "execution_count": 22,
   "metadata": {},
   "outputs": [
    {
     "data": {
      "image/png": "[encoded data removed]",
      "text/plain": [
       "<Figure size 432x288 with 1 Axes>"
      ]
     },
     "metadata": {
      "needs_background": "light"
     },
     "output_type": "display_data"
    }
   ],
   "source": [
    "years = range(1921, 2021)\n",
    "plt.plot(\n",
    "    years, \n",
    "    [\n",
    "        compute_burning_cost(payouts, start_year=start_year, end_year=2021) \n",
    "        for start_year in years\n",
    "    ]\n",
    ")\n",
    "plt.gca().invert_xaxis()"
   ]
  },
  {
   "cell_type": "markdown",
   "metadata": {},
   "source": [
    "# Large asset portfolio - async requests\n",
    "\n",
    "Our client also whishes to cover a large amount of properties all over Europe.\n",
    "\n",
    "In order to speed-up the requests to the USGS API, in the module `earthquakes.usgs_api`:\n",
    "- Implement the `async` function `get_earthquake_data_for_multiple_locations`,\n",
    "- The implementation should use the `asyncio` and `aiohttp` libraries,\n",
    "- The solution should re-use some of the functions already written,\n",
    "- Tests are not required for any of the functions.\n",
    "\n",
    "Note: it is possible that the notebook autoreload feature doesn't work for `async` functions - a kernel restart may be necessary after each modifications."
   ]
  },
  {
   "cell_type": "code",
   "execution_count": 23,
   "metadata": {},
   "outputs": [],
   "source": [
    "import numpy as np\n",
    "import pandas as pd\n",
    "from datetime import datetime\n",
    "\n",
    "from earthquakes.tools import (\n",
    "    LATITUDE_COLUMN,\n",
    "    LONGITUDE_COLUMN,\n",
    ")"
   ]
  },
  {
   "cell_type": "code",
   "execution_count": 24,
   "metadata": {},
   "outputs": [],
   "source": [
    "number_of_assets = 10\n",
    "# NOTE: limiting to number of assets so that the query doesn't take too long."
   ]
  },
  {
   "cell_type": "code",
   "execution_count": 25,
   "metadata": {},
   "outputs": [],
   "source": [
    "random_state = np.random.RandomState(0)\n",
    "\n",
    "random_values = random_state.random(2*number_of_assets)\n",
    "\n",
    "latitudes = random_values[::2] * 20 + 35.0\n",
    "longitudes = random_values[1::2] * 25 + 3.0"
   ]
  },
  {
   "cell_type": "code",
   "execution_count": 26,
   "metadata": {},
   "outputs": [],
   "source": [
    "from earthquakes.usgs_api import get_earthquake_data_for_multiple_locations"
   ]
  },
  {
   "cell_type": "code",
   "execution_count": 27,
   "metadata": {},
   "outputs": [
    {
     "data": {
      "text/plain": [
       "[{'latitude': 45.97627007854649, 'longitude': 20.879734159310487},\n",
       " {'latitude': 47.05526752143288, 'longitude': 16.622079574922424},\n",
       " {'latitude': 43.47309598677809, 'longitude': 19.147352826666403},\n",
       " {'latitude': 43.75174422525385, 'longitude': 25.294325019551994},\n",
       " {'latitude': 54.27325521002059, 'longitude': 12.586037970644442},\n",
       " {'latitude': 50.83450076165329, 'longitude': 16.22237299382261},\n",
       " {'latitude': 46.360891221878646, 'longitude': 26.139915957316525},\n",
       " {'latitude': 36.42072116395774, 'longitude': 5.178232492538518},\n",
       " {'latitude': 35.40436794880652, 'longitude': 23.81549613869845},\n",
       " {'latitude': 50.56313501899701, 'longitude': 24.750303706170477}]"
      ]
     },
     "execution_count": 27,
     "metadata": {},
     "output_type": "execute_result"
    }
   ],
   "source": [
    "# NOTE: Fill me!\n",
    "assets = [{\"latitude\":latitude,\"longitude\":longitude} for (latitude,longitude) in zip(latitudes,longitudes)]\n",
    "assets"
   ]
  },
  {
   "cell_type": "code",
   "execution_count": 48,
   "metadata": {},
   "outputs": [],
   "source": [
    "### JUPYTER NOTEBOOK IS ALREADY IN AN EVENT LOOP, WHICH PREVENTS ME FROM CALLING multi asset data colecting function (based on asyncio)\n",
    "### There are different solutions for this, I choose the one that is most simple for me (as I am quite new to usage of asyncio)\n",
    "### https://exerror.com/runtimeerror-asyncio-run-cannot-be-called-from-a-running-event-loop/\n"
   ]
  },
  {
   "cell_type": "code",
   "execution_count": 44,
   "metadata": {},
   "outputs": [
    {
     "name": "stdout",
     "output_type": "stream",
     "text": [
      "Requirement already satisfied: nest_asyncio in c:\\users\\feilo\\anaconda3\\envs\\descartes_underwriting_technical_test\\lib\\site-packages (1.5.4)\n",
      "Note: you may need to restart the kernel to use updated packages.\n"
     ]
    }
   ],
   "source": [
    "pip install nest_asyncio"
   ]
  },
  {
   "cell_type": "code",
   "execution_count": 45,
   "metadata": {},
   "outputs": [],
   "source": [
    "# NOTE: This request may take significant time (>10s)\n",
    "\n",
    "import nest_asyncio\n",
    "nest_asyncio.apply()\n",
    "import asyncio\n",
    "loop = asyncio.new_event_loop()\n",
    "\n",
    "\n",
    "multi_earthquake_data = get_earthquake_data_for_multiple_locations(\n",
    "        assets, \n",
    "    radius=200, \n",
    "    minimum_magnitude=4.5, \n",
    "    end_date=datetime(year=2021, month=10, day=21)\n",
    ")"
   ]
  },
  {
   "cell_type": "code",
   "execution_count": 46,
   "metadata": {},
   "outputs": [
    {
     "data": {
      "text/html": [
       "<div>\n",
       "<style scoped>\n",
       "    .dataframe tbody tr th:only-of-type {\n",
       "        vertical-align: middle;\n",
       "    }\n",
       "\n",
       "    .dataframe tbody tr th {\n",
       "        vertical-align: top;\n",
       "    }\n",
       "\n",
       "    .dataframe thead th {\n",
       "        text-align: right;\n",
       "    }\n",
       "</style>\n",
       "<table border=\"1\" class=\"dataframe\">\n",
       "  <thead>\n",
       "    <tr style=\"text-align: right;\">\n",
       "      <th></th>\n",
       "      <th>time</th>\n",
       "      <th>latitude</th>\n",
       "      <th>longitude</th>\n",
       "      <th>depth</th>\n",
       "      <th>mag</th>\n",
       "      <th>magType</th>\n",
       "      <th>nst</th>\n",
       "      <th>gap</th>\n",
       "      <th>dmin</th>\n",
       "      <th>rms</th>\n",
       "      <th>...</th>\n",
       "      <th>updated</th>\n",
       "      <th>place</th>\n",
       "      <th>type</th>\n",
       "      <th>horizontalError</th>\n",
       "      <th>depthError</th>\n",
       "      <th>magError</th>\n",
       "      <th>magNst</th>\n",
       "      <th>status</th>\n",
       "      <th>locationSource</th>\n",
       "      <th>magSource</th>\n",
       "    </tr>\n",
       "  </thead>\n",
       "  <tbody>\n",
       "    <tr>\n",
       "      <th>0</th>\n",
       "      <td>1913-06-14T09:33:19.000Z</td>\n",
       "      <td>43.603</td>\n",
       "      <td>25.952</td>\n",
       "      <td>15.0</td>\n",
       "      <td>6.6</td>\n",
       "      <td>mw</td>\n",
       "      <td>NaN</td>\n",
       "      <td>NaN</td>\n",
       "      <td>NaN</td>\n",
       "      <td>NaN</td>\n",
       "      <td>...</td>\n",
       "      <td>2020-07-10T13:26:38.886Z</td>\n",
       "      <td>6 km E of Dve Mogili, Bulgaria</td>\n",
       "      <td>earthquake</td>\n",
       "      <td>NaN</td>\n",
       "      <td>NaN</td>\n",
       "      <td>NaN</td>\n",
       "      <td>NaN</td>\n",
       "      <td>automatic</td>\n",
       "      <td>iscgem</td>\n",
       "      <td>iscgem</td>\n",
       "    </tr>\n",
       "    <tr>\n",
       "      <th>1</th>\n",
       "      <td>1923-08-01T08:16:27.000Z</td>\n",
       "      <td>34.786</td>\n",
       "      <td>25.16</td>\n",
       "      <td>15.0</td>\n",
       "      <td>5.6</td>\n",
       "      <td>mw</td>\n",
       "      <td>NaN</td>\n",
       "      <td>NaN</td>\n",
       "      <td>NaN</td>\n",
       "      <td>NaN</td>\n",
       "      <td>...</td>\n",
       "      <td>2015-05-13T18:52:41.000Z</td>\n",
       "      <td>24 km S of Pýrgos, Greece</td>\n",
       "      <td>earthquake</td>\n",
       "      <td>NaN</td>\n",
       "      <td>NaN</td>\n",
       "      <td>NaN</td>\n",
       "      <td>NaN</td>\n",
       "      <td>automatic</td>\n",
       "      <td>iscgem</td>\n",
       "      <td>iscgem</td>\n",
       "    </tr>\n",
       "    <tr>\n",
       "      <th>2</th>\n",
       "      <td>1926-08-30T11:38:04.000Z</td>\n",
       "      <td>36.57</td>\n",
       "      <td>22.995</td>\n",
       "      <td>50.0</td>\n",
       "      <td>6.3</td>\n",
       "      <td>mw</td>\n",
       "      <td>NaN</td>\n",
       "      <td>NaN</td>\n",
       "      <td>NaN</td>\n",
       "      <td>NaN</td>\n",
       "      <td>...</td>\n",
       "      <td>2020-07-10T12:19:25.180Z</td>\n",
       "      <td>13 km SSW of Géfyra, Greece</td>\n",
       "      <td>earthquake</td>\n",
       "      <td>NaN</td>\n",
       "      <td>NaN</td>\n",
       "      <td>NaN</td>\n",
       "      <td>NaN</td>\n",
       "      <td>automatic</td>\n",
       "      <td>iscgem</td>\n",
       "      <td>iscgem</td>\n",
       "    </tr>\n",
       "    <tr>\n",
       "      <th>3</th>\n",
       "      <td>1928-04-14T09:00:00.000Z</td>\n",
       "      <td>42.329</td>\n",
       "      <td>25.717</td>\n",
       "      <td>10.0</td>\n",
       "      <td>7.1</td>\n",
       "      <td>mw</td>\n",
       "      <td>NaN</td>\n",
       "      <td>NaN</td>\n",
       "      <td>NaN</td>\n",
       "      <td>NaN</td>\n",
       "      <td>...</td>\n",
       "      <td>2020-07-10T11:57:18.658Z</td>\n",
       "      <td>13 km SSE of Stara Zagora, Bulgaria</td>\n",
       "      <td>earthquake</td>\n",
       "      <td>NaN</td>\n",
       "      <td>NaN</td>\n",
       "      <td>NaN</td>\n",
       "      <td>NaN</td>\n",
       "      <td>automatic</td>\n",
       "      <td>iscgem</td>\n",
       "      <td>iscgem</td>\n",
       "    </tr>\n",
       "    <tr>\n",
       "      <th>4</th>\n",
       "      <td>1928-04-18T19:22:56.000Z</td>\n",
       "      <td>42.356</td>\n",
       "      <td>25.109</td>\n",
       "      <td>15.0</td>\n",
       "      <td>7.1</td>\n",
       "      <td>mw</td>\n",
       "      <td>NaN</td>\n",
       "      <td>NaN</td>\n",
       "      <td>NaN</td>\n",
       "      <td>NaN</td>\n",
       "      <td>...</td>\n",
       "      <td>2020-07-10T11:57:53.506Z</td>\n",
       "      <td>2 km ENE of Brezovo, Bulgaria</td>\n",
       "      <td>earthquake</td>\n",
       "      <td>NaN</td>\n",
       "      <td>NaN</td>\n",
       "      <td>NaN</td>\n",
       "      <td>NaN</td>\n",
       "      <td>automatic</td>\n",
       "      <td>iscgem</td>\n",
       "      <td>iscgem</td>\n",
       "    </tr>\n",
       "    <tr>\n",
       "      <th>...</th>\n",
       "      <td>...</td>\n",
       "      <td>...</td>\n",
       "      <td>...</td>\n",
       "      <td>...</td>\n",
       "      <td>...</td>\n",
       "      <td>...</td>\n",
       "      <td>...</td>\n",
       "      <td>...</td>\n",
       "      <td>...</td>\n",
       "      <td>...</td>\n",
       "      <td>...</td>\n",
       "      <td>...</td>\n",
       "      <td>...</td>\n",
       "      <td>...</td>\n",
       "      <td>...</td>\n",
       "      <td>...</td>\n",
       "      <td>...</td>\n",
       "      <td>...</td>\n",
       "      <td>...</td>\n",
       "      <td>...</td>\n",
       "      <td>...</td>\n",
       "    </tr>\n",
       "    <tr>\n",
       "      <th>1031</th>\n",
       "      <td>2021-09-28T04:48:08.650Z</td>\n",
       "      <td>35.0817</td>\n",
       "      <td>25.2018</td>\n",
       "      <td>10.0</td>\n",
       "      <td>5.3</td>\n",
       "      <td>mww</td>\n",
       "      <td>NaN</td>\n",
       "      <td>43.0</td>\n",
       "      <td>0.328</td>\n",
       "      <td>0.94</td>\n",
       "      <td>...</td>\n",
       "      <td>2021-12-04T14:30:04.040Z</td>\n",
       "      <td>9 km SW of Arkalochóri, Greece</td>\n",
       "      <td>earthquake</td>\n",
       "      <td>4.5</td>\n",
       "      <td>1.7</td>\n",
       "      <td>0.046</td>\n",
       "      <td>45.0</td>\n",
       "      <td>reviewed</td>\n",
       "      <td>us</td>\n",
       "      <td>us</td>\n",
       "    </tr>\n",
       "    <tr>\n",
       "      <th>1032</th>\n",
       "      <td>2021-09-28T15:13:16.867Z</td>\n",
       "      <td>35.2054</td>\n",
       "      <td>25.2791</td>\n",
       "      <td>10.0</td>\n",
       "      <td>4.7</td>\n",
       "      <td>mb</td>\n",
       "      <td>NaN</td>\n",
       "      <td>58.0</td>\n",
       "      <td>0.329</td>\n",
       "      <td>0.7</td>\n",
       "      <td>...</td>\n",
       "      <td>2021-12-04T14:30:09.040Z</td>\n",
       "      <td>1 km N of Thrapsanón, Greece</td>\n",
       "      <td>earthquake</td>\n",
       "      <td>6.9</td>\n",
       "      <td>1.8</td>\n",
       "      <td>0.067</td>\n",
       "      <td>73.0</td>\n",
       "      <td>reviewed</td>\n",
       "      <td>us</td>\n",
       "      <td>us</td>\n",
       "    </tr>\n",
       "    <tr>\n",
       "      <th>1033</th>\n",
       "      <td>2021-09-29T11:54:48.885Z</td>\n",
       "      <td>35.0268</td>\n",
       "      <td>25.1561</td>\n",
       "      <td>10.0</td>\n",
       "      <td>4.6</td>\n",
       "      <td>mb</td>\n",
       "      <td>NaN</td>\n",
       "      <td>69.0</td>\n",
       "      <td>0.339</td>\n",
       "      <td>0.83</td>\n",
       "      <td>...</td>\n",
       "      <td>2021-12-04T14:27:58.040Z</td>\n",
       "      <td>2 km N of Pýrgos, Greece</td>\n",
       "      <td>earthquake</td>\n",
       "      <td>5.1</td>\n",
       "      <td>1.3</td>\n",
       "      <td>0.068</td>\n",
       "      <td>64.0</td>\n",
       "      <td>reviewed</td>\n",
       "      <td>us</td>\n",
       "      <td>us</td>\n",
       "    </tr>\n",
       "    <tr>\n",
       "      <th>1034</th>\n",
       "      <td>2021-10-03T14:31:27.622Z</td>\n",
       "      <td>35.1442</td>\n",
       "      <td>25.2375</td>\n",
       "      <td>10.0</td>\n",
       "      <td>4.6</td>\n",
       "      <td>mb</td>\n",
       "      <td>NaN</td>\n",
       "      <td>119.0</td>\n",
       "      <td>0.318</td>\n",
       "      <td>0.64</td>\n",
       "      <td>...</td>\n",
       "      <td>2021-12-10T21:14:19.040Z</td>\n",
       "      <td>2 km W of Arkalochóri, Greece</td>\n",
       "      <td>earthquake</td>\n",
       "      <td>5.0</td>\n",
       "      <td>1.9</td>\n",
       "      <td>0.165</td>\n",
       "      <td>13.0</td>\n",
       "      <td>reviewed</td>\n",
       "      <td>us</td>\n",
       "      <td>us</td>\n",
       "    </tr>\n",
       "    <tr>\n",
       "      <th>1035</th>\n",
       "      <td>2021-10-06T19:57:33.511Z</td>\n",
       "      <td>43.6811</td>\n",
       "      <td>16.8584</td>\n",
       "      <td>10.0</td>\n",
       "      <td>4.9</td>\n",
       "      <td>mb</td>\n",
       "      <td>NaN</td>\n",
       "      <td>16.0</td>\n",
       "      <td>1.092</td>\n",
       "      <td>1.16</td>\n",
       "      <td>...</td>\n",
       "      <td>2021-12-10T21:14:15.040Z</td>\n",
       "      <td>10 km E of Otok, Croatia</td>\n",
       "      <td>earthquake</td>\n",
       "      <td>4.2</td>\n",
       "      <td>1.8</td>\n",
       "      <td>0.059</td>\n",
       "      <td>89.0</td>\n",
       "      <td>reviewed</td>\n",
       "      <td>us</td>\n",
       "      <td>us</td>\n",
       "    </tr>\n",
       "  </tbody>\n",
       "</table>\n",
       "<p>1036 rows × 22 columns</p>\n",
       "</div>"
      ],
      "text/plain": [
       "                          time latitude longitude depth  mag magType  nst  \\\n",
       "0     1913-06-14T09:33:19.000Z   43.603    25.952  15.0  6.6      mw  NaN   \n",
       "1     1923-08-01T08:16:27.000Z   34.786     25.16  15.0  5.6      mw  NaN   \n",
       "2     1926-08-30T11:38:04.000Z    36.57    22.995  50.0  6.3      mw  NaN   \n",
       "3     1928-04-14T09:00:00.000Z   42.329    25.717  10.0  7.1      mw  NaN   \n",
       "4     1928-04-18T19:22:56.000Z   42.356    25.109  15.0  7.1      mw  NaN   \n",
       "...                        ...      ...       ...   ...  ...     ...  ...   \n",
       "1031  2021-09-28T04:48:08.650Z  35.0817   25.2018  10.0  5.3     mww  NaN   \n",
       "1032  2021-09-28T15:13:16.867Z  35.2054   25.2791  10.0  4.7      mb  NaN   \n",
       "1033  2021-09-29T11:54:48.885Z  35.0268   25.1561  10.0  4.6      mb  NaN   \n",
       "1034  2021-10-03T14:31:27.622Z  35.1442   25.2375  10.0  4.6      mb  NaN   \n",
       "1035  2021-10-06T19:57:33.511Z  43.6811   16.8584  10.0  4.9      mb  NaN   \n",
       "\n",
       "        gap   dmin   rms  ...                   updated  \\\n",
       "0       NaN    NaN   NaN  ...  2020-07-10T13:26:38.886Z   \n",
       "1       NaN    NaN   NaN  ...  2015-05-13T18:52:41.000Z   \n",
       "2       NaN    NaN   NaN  ...  2020-07-10T12:19:25.180Z   \n",
       "3       NaN    NaN   NaN  ...  2020-07-10T11:57:18.658Z   \n",
       "4       NaN    NaN   NaN  ...  2020-07-10T11:57:53.506Z   \n",
       "...     ...    ...   ...  ...                       ...   \n",
       "1031   43.0  0.328  0.94  ...  2021-12-04T14:30:04.040Z   \n",
       "1032   58.0  0.329   0.7  ...  2021-12-04T14:30:09.040Z   \n",
       "1033   69.0  0.339  0.83  ...  2021-12-04T14:27:58.040Z   \n",
       "1034  119.0  0.318  0.64  ...  2021-12-10T21:14:19.040Z   \n",
       "1035   16.0  1.092  1.16  ...  2021-12-10T21:14:15.040Z   \n",
       "\n",
       "                                    place        type horizontalError  \\\n",
       "0          6 km E of Dve Mogili, Bulgaria  earthquake             NaN   \n",
       "1               24 km S of Pýrgos, Greece  earthquake             NaN   \n",
       "2             13 km SSW of Géfyra, Greece  earthquake             NaN   \n",
       "3     13 km SSE of Stara Zagora, Bulgaria  earthquake             NaN   \n",
       "4           2 km ENE of Brezovo, Bulgaria  earthquake             NaN   \n",
       "...                                   ...         ...             ...   \n",
       "1031       9 km SW of Arkalochóri, Greece  earthquake             4.5   \n",
       "1032         1 km N of Thrapsanón, Greece  earthquake             6.9   \n",
       "1033             2 km N of Pýrgos, Greece  earthquake             5.1   \n",
       "1034        2 km W of Arkalochóri, Greece  earthquake             5.0   \n",
       "1035             10 km E of Otok, Croatia  earthquake             4.2   \n",
       "\n",
       "     depthError magError magNst     status locationSource magSource  \n",
       "0           NaN      NaN    NaN  automatic         iscgem    iscgem  \n",
       "1           NaN      NaN    NaN  automatic         iscgem    iscgem  \n",
       "2           NaN      NaN    NaN  automatic         iscgem    iscgem  \n",
       "3           NaN      NaN    NaN  automatic         iscgem    iscgem  \n",
       "4           NaN      NaN    NaN  automatic         iscgem    iscgem  \n",
       "...         ...      ...    ...        ...            ...       ...  \n",
       "1031        1.7    0.046   45.0   reviewed             us        us  \n",
       "1032        1.8    0.067   73.0   reviewed             us        us  \n",
       "1033        1.3    0.068   64.0   reviewed             us        us  \n",
       "1034        1.9    0.165   13.0   reviewed             us        us  \n",
       "1035        1.8    0.059   89.0   reviewed             us        us  \n",
       "\n",
       "[1036 rows x 22 columns]"
      ]
     },
     "execution_count": 46,
     "metadata": {},
     "output_type": "execute_result"
    }
   ],
   "source": [
    "multi_earthquake_data"
   ]
  },
  {
   "cell_type": "code",
   "execution_count": 47,
   "metadata": {},
   "outputs": [],
   "source": [
    "assert isinstance(multi_earthquake_data, pd.DataFrame)\n",
    "assert len(multi_earthquake_data) == 1036"
   ]
  },
  {
   "cell_type": "code",
   "execution_count": null,
   "metadata": {},
   "outputs": [],
   "source": []
  }
 ],
 "metadata": {
  "interpreter": {
   "hash": "60230ecbd9b9a94ff1397bcfe0cbc26fc23c06e2385a718caf30b052d5019f5e"
  },
  "kernelspec": {
   "display_name": "Python 3 (ipykernel)",
   "language": "python",
   "name": "python3"
  },
  "language_info": {
   "codemirror_mode": {
    "name": "ipython",
    "version": 3
   },
   "file_extension": ".py",
   "mimetype": "text/x-python",
   "name": "python",
   "nbconvert_exporter": "python",
   "pygments_lexer": "ipython3",
   "version": "3.8.12"
  }
 },
 "nbformat": 4,
 "nbformat_minor": 4
}
